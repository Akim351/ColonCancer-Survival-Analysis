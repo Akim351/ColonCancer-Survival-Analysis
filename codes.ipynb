{
 "cells": [
  {
   "cell_type": "markdown",
   "id": "d108bac2",
   "metadata": {},
   "source": [
    "## Colon Cancer Survival Analysis"
   ]
  },
  {
   "cell_type": "code",
   "execution_count": 28,
   "id": "25965559",
   "metadata": {},
   "outputs": [],
   "source": [
    "# importing necessary libraries\n",
    "import pandas as pd \n",
    "import numpy as np\n",
    "import matplotlib.pyplot as plt\n",
    "import seaborn as sns"
   ]
  },
  {
   "cell_type": "markdown",
   "id": "e345796f",
   "metadata": {},
   "source": [
    "Loading the data set"
   ]
  },
  {
   "cell_type": "code",
   "execution_count": 29,
   "id": "b3a97940",
   "metadata": {},
   "outputs": [],
   "source": [
    "# importing the stats library\n",
    "import pyreadstat\n",
    "# loadoing the dataset\n",
    "colcan_data, meta = pyreadstat.read_sav(\"COLON.SAV\")"
   ]
  },
  {
   "cell_type": "code",
   "execution_count": 30,
   "id": "9be82983",
   "metadata": {},
   "outputs": [
    {
     "data": {
      "text/html": [
       "<div>\n",
       "<style scoped>\n",
       "    .dataframe tbody tr th:only-of-type {\n",
       "        vertical-align: middle;\n",
       "    }\n",
       "\n",
       "    .dataframe tbody tr th {\n",
       "        vertical-align: top;\n",
       "    }\n",
       "\n",
       "    .dataframe thead th {\n",
       "        text-align: right;\n",
       "    }\n",
       "</style>\n",
       "<table border=\"1\" class=\"dataframe\">\n",
       "  <thead>\n",
       "    <tr style=\"text-align: right;\">\n",
       "      <th></th>\n",
       "      <th>AGE</th>\n",
       "      <th>SEX</th>\n",
       "      <th>CHANCE</th>\n",
       "      <th>PATTERN</th>\n",
       "      <th>BLDLOSS</th>\n",
       "      <th>STOMACHE</th>\n",
       "      <th>WGHTLOSS</th>\n",
       "      <th>ILEUS</th>\n",
       "      <th>STATUS</th>\n",
       "      <th>STAGE</th>\n",
       "      <th>LOC</th>\n",
       "      <th>SURV</th>\n",
       "      <th>OPYEAR</th>\n",
       "      <th>AGEGR</th>\n",
       "    </tr>\n",
       "  </thead>\n",
       "  <tbody>\n",
       "    <tr>\n",
       "      <th>0</th>\n",
       "      <td>74.0</td>\n",
       "      <td>1.0</td>\n",
       "      <td>0.0</td>\n",
       "      <td>0.0</td>\n",
       "      <td>0.0</td>\n",
       "      <td>0.0</td>\n",
       "      <td>1.0</td>\n",
       "      <td>0.0</td>\n",
       "      <td>0.0</td>\n",
       "      <td>2.0</td>\n",
       "      <td>2.0</td>\n",
       "      <td>9.191</td>\n",
       "      <td>72.0</td>\n",
       "      <td>3.0</td>\n",
       "    </tr>\n",
       "    <tr>\n",
       "      <th>1</th>\n",
       "      <td>63.0</td>\n",
       "      <td>0.0</td>\n",
       "      <td>0.0</td>\n",
       "      <td>1.0</td>\n",
       "      <td>1.0</td>\n",
       "      <td>0.0</td>\n",
       "      <td>0.0</td>\n",
       "      <td>0.0</td>\n",
       "      <td>1.0</td>\n",
       "      <td>4.0</td>\n",
       "      <td>3.0</td>\n",
       "      <td>0.419</td>\n",
       "      <td>62.0</td>\n",
       "      <td>2.0</td>\n",
       "    </tr>\n",
       "    <tr>\n",
       "      <th>2</th>\n",
       "      <td>80.0</td>\n",
       "      <td>0.0</td>\n",
       "      <td>0.0</td>\n",
       "      <td>1.0</td>\n",
       "      <td>1.0</td>\n",
       "      <td>1.0</td>\n",
       "      <td>1.0</td>\n",
       "      <td>0.0</td>\n",
       "      <td>1.0</td>\n",
       "      <td>2.0</td>\n",
       "      <td>3.0</td>\n",
       "      <td>3.058</td>\n",
       "      <td>63.0</td>\n",
       "      <td>3.0</td>\n",
       "    </tr>\n",
       "    <tr>\n",
       "      <th>3</th>\n",
       "      <td>76.0</td>\n",
       "      <td>1.0</td>\n",
       "      <td>0.0</td>\n",
       "      <td>0.0</td>\n",
       "      <td>0.0</td>\n",
       "      <td>1.0</td>\n",
       "      <td>0.0</td>\n",
       "      <td>0.0</td>\n",
       "      <td>1.0</td>\n",
       "      <td>2.0</td>\n",
       "      <td>1.0</td>\n",
       "      <td>1.927</td>\n",
       "      <td>63.0</td>\n",
       "      <td>3.0</td>\n",
       "    </tr>\n",
       "    <tr>\n",
       "      <th>4</th>\n",
       "      <td>25.0</td>\n",
       "      <td>1.0</td>\n",
       "      <td>0.0</td>\n",
       "      <td>1.0</td>\n",
       "      <td>1.0</td>\n",
       "      <td>1.0</td>\n",
       "      <td>0.0</td>\n",
       "      <td>1.0</td>\n",
       "      <td>1.0</td>\n",
       "      <td>4.0</td>\n",
       "      <td>4.0</td>\n",
       "      <td>0.931</td>\n",
       "      <td>66.0</td>\n",
       "      <td>1.0</td>\n",
       "    </tr>\n",
       "  </tbody>\n",
       "</table>\n",
       "</div>"
      ],
      "text/plain": [
       "    AGE  SEX  CHANCE  PATTERN  BLDLOSS  STOMACHE  WGHTLOSS  ILEUS  STATUS  \\\n",
       "0  74.0  1.0     0.0      0.0      0.0       0.0       1.0    0.0     0.0   \n",
       "1  63.0  0.0     0.0      1.0      1.0       0.0       0.0    0.0     1.0   \n",
       "2  80.0  0.0     0.0      1.0      1.0       1.0       1.0    0.0     1.0   \n",
       "3  76.0  1.0     0.0      0.0      0.0       1.0       0.0    0.0     1.0   \n",
       "4  25.0  1.0     0.0      1.0      1.0       1.0       0.0    1.0     1.0   \n",
       "\n",
       "   STAGE  LOC   SURV  OPYEAR  AGEGR  \n",
       "0    2.0  2.0  9.191    72.0    3.0  \n",
       "1    4.0  3.0  0.419    62.0    2.0  \n",
       "2    2.0  3.0  3.058    63.0    3.0  \n",
       "3    2.0  1.0  1.927    63.0    3.0  \n",
       "4    4.0  4.0  0.931    66.0    1.0  "
      ]
     },
     "execution_count": 30,
     "metadata": {},
     "output_type": "execute_result"
    }
   ],
   "source": [
    "colcan_data.head()"
   ]
  },
  {
   "cell_type": "code",
   "execution_count": 31,
   "id": "0d2b0665",
   "metadata": {},
   "outputs": [
    {
     "data": {
      "text/html": [
       "<div>\n",
       "<style scoped>\n",
       "    .dataframe tbody tr th:only-of-type {\n",
       "        vertical-align: middle;\n",
       "    }\n",
       "\n",
       "    .dataframe tbody tr th {\n",
       "        vertical-align: top;\n",
       "    }\n",
       "\n",
       "    .dataframe thead th {\n",
       "        text-align: right;\n",
       "    }\n",
       "</style>\n",
       "<table border=\"1\" class=\"dataframe\">\n",
       "  <thead>\n",
       "    <tr style=\"text-align: right;\">\n",
       "      <th></th>\n",
       "      <th>AGE</th>\n",
       "      <th>SEX</th>\n",
       "      <th>CHANCE</th>\n",
       "      <th>PATTERN</th>\n",
       "      <th>BLDLOSS</th>\n",
       "      <th>STOMACHE</th>\n",
       "      <th>WGHTLOSS</th>\n",
       "      <th>ILEUS</th>\n",
       "      <th>STATUS</th>\n",
       "      <th>STAGE</th>\n",
       "      <th>LOC</th>\n",
       "      <th>SURV</th>\n",
       "      <th>OPYEAR</th>\n",
       "      <th>AGEGR</th>\n",
       "    </tr>\n",
       "  </thead>\n",
       "  <tbody>\n",
       "    <tr>\n",
       "      <th>561</th>\n",
       "      <td>66.0</td>\n",
       "      <td>0.0</td>\n",
       "      <td>0.0</td>\n",
       "      <td>0.0</td>\n",
       "      <td>0.0</td>\n",
       "      <td>0.0</td>\n",
       "      <td>0.0</td>\n",
       "      <td>0.0</td>\n",
       "      <td>0.0</td>\n",
       "      <td>2.0</td>\n",
       "      <td>4.0</td>\n",
       "      <td>17.043</td>\n",
       "      <td>58.0</td>\n",
       "      <td>2.0</td>\n",
       "    </tr>\n",
       "    <tr>\n",
       "      <th>562</th>\n",
       "      <td>61.0</td>\n",
       "      <td>0.0</td>\n",
       "      <td>0.0</td>\n",
       "      <td>1.0</td>\n",
       "      <td>0.0</td>\n",
       "      <td>1.0</td>\n",
       "      <td>1.0</td>\n",
       "      <td>0.0</td>\n",
       "      <td>1.0</td>\n",
       "      <td>3.0</td>\n",
       "      <td>2.0</td>\n",
       "      <td>0.660</td>\n",
       "      <td>58.0</td>\n",
       "      <td>2.0</td>\n",
       "    </tr>\n",
       "    <tr>\n",
       "      <th>563</th>\n",
       "      <td>68.0</td>\n",
       "      <td>0.0</td>\n",
       "      <td>0.0</td>\n",
       "      <td>1.0</td>\n",
       "      <td>0.0</td>\n",
       "      <td>0.0</td>\n",
       "      <td>1.0</td>\n",
       "      <td>0.0</td>\n",
       "      <td>1.0</td>\n",
       "      <td>2.0</td>\n",
       "      <td>4.0</td>\n",
       "      <td>1.561</td>\n",
       "      <td>58.0</td>\n",
       "      <td>2.0</td>\n",
       "    </tr>\n",
       "    <tr>\n",
       "      <th>564</th>\n",
       "      <td>70.0</td>\n",
       "      <td>0.0</td>\n",
       "      <td>0.0</td>\n",
       "      <td>1.0</td>\n",
       "      <td>0.0</td>\n",
       "      <td>1.0</td>\n",
       "      <td>1.0</td>\n",
       "      <td>0.0</td>\n",
       "      <td>1.0</td>\n",
       "      <td>1.0</td>\n",
       "      <td>1.0</td>\n",
       "      <td>12.986</td>\n",
       "      <td>58.0</td>\n",
       "      <td>2.0</td>\n",
       "    </tr>\n",
       "    <tr>\n",
       "      <th>565</th>\n",
       "      <td>62.0</td>\n",
       "      <td>0.0</td>\n",
       "      <td>1.0</td>\n",
       "      <td>0.0</td>\n",
       "      <td>0.0</td>\n",
       "      <td>0.0</td>\n",
       "      <td>0.0</td>\n",
       "      <td>0.0</td>\n",
       "      <td>1.0</td>\n",
       "      <td>2.0</td>\n",
       "      <td>1.0</td>\n",
       "      <td>6.535</td>\n",
       "      <td>58.0</td>\n",
       "      <td>2.0</td>\n",
       "    </tr>\n",
       "  </tbody>\n",
       "</table>\n",
       "</div>"
      ],
      "text/plain": [
       "      AGE  SEX  CHANCE  PATTERN  BLDLOSS  STOMACHE  WGHTLOSS  ILEUS  STATUS  \\\n",
       "561  66.0  0.0     0.0      0.0      0.0       0.0       0.0    0.0     0.0   \n",
       "562  61.0  0.0     0.0      1.0      0.0       1.0       1.0    0.0     1.0   \n",
       "563  68.0  0.0     0.0      1.0      0.0       0.0       1.0    0.0     1.0   \n",
       "564  70.0  0.0     0.0      1.0      0.0       1.0       1.0    0.0     1.0   \n",
       "565  62.0  0.0     1.0      0.0      0.0       0.0       0.0    0.0     1.0   \n",
       "\n",
       "     STAGE  LOC    SURV  OPYEAR  AGEGR  \n",
       "561    2.0  4.0  17.043    58.0    2.0  \n",
       "562    3.0  2.0   0.660    58.0    2.0  \n",
       "563    2.0  4.0   1.561    58.0    2.0  \n",
       "564    1.0  1.0  12.986    58.0    2.0  \n",
       "565    2.0  1.0   6.535    58.0    2.0  "
      ]
     },
     "execution_count": 31,
     "metadata": {},
     "output_type": "execute_result"
    }
   ],
   "source": [
    "colcan_data.tail()"
   ]
  },
  {
   "cell_type": "markdown",
   "id": "932e6633",
   "metadata": {},
   "source": [
    "Checking the variables in the data set."
   ]
  },
  {
   "cell_type": "code",
   "execution_count": 32,
   "id": "cfb2ee72",
   "metadata": {},
   "outputs": [
    {
     "data": {
      "text/plain": [
       "['AGE',\n",
       " 'SEX',\n",
       " 'CHANCE',\n",
       " 'PATTERN',\n",
       " 'BLDLOSS',\n",
       " 'STOMACHE',\n",
       " 'WGHTLOSS',\n",
       " 'ILEUS',\n",
       " 'STATUS',\n",
       " 'STAGE',\n",
       " 'LOC',\n",
       " 'SURV',\n",
       " 'OPYEAR',\n",
       " 'AGEGR']"
      ]
     },
     "execution_count": 32,
     "metadata": {},
     "output_type": "execute_result"
    }
   ],
   "source": [
    "#checking the variables in the dataset in list format\n",
    "colcan_data.columns.tolist()"
   ]
  },
  {
   "cell_type": "markdown",
   "id": "59ba7337",
   "metadata": {},
   "source": [
    "Checkinh the datatypes"
   ]
  },
  {
   "cell_type": "code",
   "execution_count": 33,
   "id": "ba75554d",
   "metadata": {},
   "outputs": [
    {
     "data": {
      "text/plain": [
       "AGE         float64\n",
       "SEX         float64\n",
       "CHANCE      float64\n",
       "PATTERN     float64\n",
       "BLDLOSS     float64\n",
       "STOMACHE    float64\n",
       "WGHTLOSS    float64\n",
       "ILEUS       float64\n",
       "STATUS      float64\n",
       "STAGE       float64\n",
       "LOC         float64\n",
       "SURV        float64\n",
       "OPYEAR      float64\n",
       "AGEGR       float64\n",
       "dtype: object"
      ]
     },
     "execution_count": 33,
     "metadata": {},
     "output_type": "execute_result"
    }
   ],
   "source": [
    "# checking the datatypes\n",
    "colcan_data.dtypes"
   ]
  },
  {
   "cell_type": "markdown",
   "id": "c159cd16",
   "metadata": {},
   "source": [
    "Checking for missing values"
   ]
  },
  {
   "cell_type": "code",
   "execution_count": 34,
   "id": "c46940aa",
   "metadata": {},
   "outputs": [
    {
     "data": {
      "text/plain": [
       "AGE         0\n",
       "SEX         0\n",
       "CHANCE      0\n",
       "PATTERN     0\n",
       "BLDLOSS     0\n",
       "STOMACHE    0\n",
       "WGHTLOSS    0\n",
       "ILEUS       0\n",
       "STATUS      0\n",
       "STAGE       0\n",
       "LOC         0\n",
       "SURV        0\n",
       "OPYEAR      0\n",
       "AGEGR       0\n",
       "dtype: int64"
      ]
     },
     "execution_count": 34,
     "metadata": {},
     "output_type": "execute_result"
    }
   ],
   "source": [
    "# checking for missing values\n",
    "colcan_data.isnull().sum()"
   ]
  },
  {
   "cell_type": "markdown",
   "id": "fafbf619",
   "metadata": {},
   "source": [
    "Changing data types "
   ]
  },
  {
   "cell_type": "code",
   "execution_count": 35,
   "id": "30097e89",
   "metadata": {},
   "outputs": [
    {
     "data": {
      "text/plain": [
       "AGE          float64\n",
       "SEX         category\n",
       "CHANCE      category\n",
       "PATTERN     category\n",
       "BLDLOSS     category\n",
       "STOMACHE    category\n",
       "WGHTLOSS    category\n",
       "ILEUS       category\n",
       "STATUS      category\n",
       "STAGE       category\n",
       "LOC         category\n",
       "SURV         float64\n",
       "OPYEAR       float64\n",
       "AGEGR        float64\n",
       "dtype: object"
      ]
     },
     "execution_count": 35,
     "metadata": {},
     "output_type": "execute_result"
    }
   ],
   "source": [
    "# converting categorical variables to category type\n",
    "cateorical_vars = [\"SEX\",\"CHANCE\", \"PATTERN\",\"BLDLOSS\",\"STOMACHE\",\"WGHTLOSS\",\"ILEUS\",\"STATUS\",\"STAGE\",\"LOC\"]\n",
    "\n",
    "colcan_data[cateorical_vars]= colcan_data[cateorical_vars].astype(\"category\")\n",
    "\n",
    "# converting float variables to int type\n",
    "for col in cateorical_vars:\n",
    "    colcan_data[col] =colcan_data[col].astype(\"int\").astype(\"category\")\n",
    "\n",
    "# confirming the changes\n",
    "colcan_data.dtypes"
   ]
  },
  {
   "cell_type": "markdown",
   "id": "2608ad56",
   "metadata": {},
   "source": [
    "Checking the summary statistic for the dataset"
   ]
  },
  {
   "cell_type": "code",
   "execution_count": 36,
   "id": "96b2b035",
   "metadata": {},
   "outputs": [
    {
     "data": {
      "text/html": [
       "<div>\n",
       "<style scoped>\n",
       "    .dataframe tbody tr th:only-of-type {\n",
       "        vertical-align: middle;\n",
       "    }\n",
       "\n",
       "    .dataframe tbody tr th {\n",
       "        vertical-align: top;\n",
       "    }\n",
       "\n",
       "    .dataframe thead th {\n",
       "        text-align: right;\n",
       "    }\n",
       "</style>\n",
       "<table border=\"1\" class=\"dataframe\">\n",
       "  <thead>\n",
       "    <tr style=\"text-align: right;\">\n",
       "      <th></th>\n",
       "      <th>AGE</th>\n",
       "      <th>SEX</th>\n",
       "      <th>CHANCE</th>\n",
       "      <th>PATTERN</th>\n",
       "      <th>BLDLOSS</th>\n",
       "      <th>STOMACHE</th>\n",
       "      <th>WGHTLOSS</th>\n",
       "      <th>ILEUS</th>\n",
       "      <th>STATUS</th>\n",
       "      <th>STAGE</th>\n",
       "      <th>LOC</th>\n",
       "      <th>SURV</th>\n",
       "      <th>OPYEAR</th>\n",
       "      <th>AGEGR</th>\n",
       "    </tr>\n",
       "  </thead>\n",
       "  <tbody>\n",
       "    <tr>\n",
       "      <th>count</th>\n",
       "      <td>566.000000</td>\n",
       "      <td>566.0</td>\n",
       "      <td>566.0</td>\n",
       "      <td>566.0</td>\n",
       "      <td>566.0</td>\n",
       "      <td>566.0</td>\n",
       "      <td>566.0</td>\n",
       "      <td>566.0</td>\n",
       "      <td>566.0</td>\n",
       "      <td>566.0</td>\n",
       "      <td>566.0</td>\n",
       "      <td>566.000000</td>\n",
       "      <td>566.000000</td>\n",
       "      <td>566.000000</td>\n",
       "    </tr>\n",
       "    <tr>\n",
       "      <th>unique</th>\n",
       "      <td>NaN</td>\n",
       "      <td>2.0</td>\n",
       "      <td>2.0</td>\n",
       "      <td>2.0</td>\n",
       "      <td>2.0</td>\n",
       "      <td>2.0</td>\n",
       "      <td>2.0</td>\n",
       "      <td>2.0</td>\n",
       "      <td>2.0</td>\n",
       "      <td>4.0</td>\n",
       "      <td>4.0</td>\n",
       "      <td>NaN</td>\n",
       "      <td>NaN</td>\n",
       "      <td>NaN</td>\n",
       "    </tr>\n",
       "    <tr>\n",
       "      <th>top</th>\n",
       "      <td>NaN</td>\n",
       "      <td>0.0</td>\n",
       "      <td>0.0</td>\n",
       "      <td>1.0</td>\n",
       "      <td>0.0</td>\n",
       "      <td>0.0</td>\n",
       "      <td>0.0</td>\n",
       "      <td>0.0</td>\n",
       "      <td>1.0</td>\n",
       "      <td>2.0</td>\n",
       "      <td>3.0</td>\n",
       "      <td>NaN</td>\n",
       "      <td>NaN</td>\n",
       "      <td>NaN</td>\n",
       "    </tr>\n",
       "    <tr>\n",
       "      <th>freq</th>\n",
       "      <td>NaN</td>\n",
       "      <td>287.0</td>\n",
       "      <td>520.0</td>\n",
       "      <td>319.0</td>\n",
       "      <td>303.0</td>\n",
       "      <td>327.0</td>\n",
       "      <td>388.0</td>\n",
       "      <td>515.0</td>\n",
       "      <td>408.0</td>\n",
       "      <td>211.0</td>\n",
       "      <td>244.0</td>\n",
       "      <td>NaN</td>\n",
       "      <td>NaN</td>\n",
       "      <td>NaN</td>\n",
       "    </tr>\n",
       "    <tr>\n",
       "      <th>mean</th>\n",
       "      <td>65.780919</td>\n",
       "      <td>NaN</td>\n",
       "      <td>NaN</td>\n",
       "      <td>NaN</td>\n",
       "      <td>NaN</td>\n",
       "      <td>NaN</td>\n",
       "      <td>NaN</td>\n",
       "      <td>NaN</td>\n",
       "      <td>NaN</td>\n",
       "      <td>NaN</td>\n",
       "      <td>NaN</td>\n",
       "      <td>4.770231</td>\n",
       "      <td>68.671378</td>\n",
       "      <td>2.095406</td>\n",
       "    </tr>\n",
       "    <tr>\n",
       "      <th>std</th>\n",
       "      <td>11.707258</td>\n",
       "      <td>NaN</td>\n",
       "      <td>NaN</td>\n",
       "      <td>NaN</td>\n",
       "      <td>NaN</td>\n",
       "      <td>NaN</td>\n",
       "      <td>NaN</td>\n",
       "      <td>NaN</td>\n",
       "      <td>NaN</td>\n",
       "      <td>NaN</td>\n",
       "      <td>NaN</td>\n",
       "      <td>4.818686</td>\n",
       "      <td>6.109745</td>\n",
       "      <td>0.799168</td>\n",
       "    </tr>\n",
       "    <tr>\n",
       "      <th>min</th>\n",
       "      <td>20.000000</td>\n",
       "      <td>NaN</td>\n",
       "      <td>NaN</td>\n",
       "      <td>NaN</td>\n",
       "      <td>NaN</td>\n",
       "      <td>NaN</td>\n",
       "      <td>NaN</td>\n",
       "      <td>NaN</td>\n",
       "      <td>NaN</td>\n",
       "      <td>NaN</td>\n",
       "      <td>NaN</td>\n",
       "      <td>0.003000</td>\n",
       "      <td>58.000000</td>\n",
       "      <td>1.000000</td>\n",
       "    </tr>\n",
       "    <tr>\n",
       "      <th>25%</th>\n",
       "      <td>60.000000</td>\n",
       "      <td>NaN</td>\n",
       "      <td>NaN</td>\n",
       "      <td>NaN</td>\n",
       "      <td>NaN</td>\n",
       "      <td>NaN</td>\n",
       "      <td>NaN</td>\n",
       "      <td>NaN</td>\n",
       "      <td>NaN</td>\n",
       "      <td>NaN</td>\n",
       "      <td>NaN</td>\n",
       "      <td>0.734500</td>\n",
       "      <td>63.000000</td>\n",
       "      <td>1.000000</td>\n",
       "    </tr>\n",
       "    <tr>\n",
       "      <th>50%</th>\n",
       "      <td>67.000000</td>\n",
       "      <td>NaN</td>\n",
       "      <td>NaN</td>\n",
       "      <td>NaN</td>\n",
       "      <td>NaN</td>\n",
       "      <td>NaN</td>\n",
       "      <td>NaN</td>\n",
       "      <td>NaN</td>\n",
       "      <td>NaN</td>\n",
       "      <td>NaN</td>\n",
       "      <td>NaN</td>\n",
       "      <td>3.107000</td>\n",
       "      <td>69.000000</td>\n",
       "      <td>2.000000</td>\n",
       "    </tr>\n",
       "    <tr>\n",
       "      <th>75%</th>\n",
       "      <td>74.000000</td>\n",
       "      <td>NaN</td>\n",
       "      <td>NaN</td>\n",
       "      <td>NaN</td>\n",
       "      <td>NaN</td>\n",
       "      <td>NaN</td>\n",
       "      <td>NaN</td>\n",
       "      <td>NaN</td>\n",
       "      <td>NaN</td>\n",
       "      <td>NaN</td>\n",
       "      <td>NaN</td>\n",
       "      <td>7.754750</td>\n",
       "      <td>74.000000</td>\n",
       "      <td>3.000000</td>\n",
       "    </tr>\n",
       "    <tr>\n",
       "      <th>max</th>\n",
       "      <td>93.000000</td>\n",
       "      <td>NaN</td>\n",
       "      <td>NaN</td>\n",
       "      <td>NaN</td>\n",
       "      <td>NaN</td>\n",
       "      <td>NaN</td>\n",
       "      <td>NaN</td>\n",
       "      <td>NaN</td>\n",
       "      <td>NaN</td>\n",
       "      <td>NaN</td>\n",
       "      <td>NaN</td>\n",
       "      <td>22.494000</td>\n",
       "      <td>78.000000</td>\n",
       "      <td>3.000000</td>\n",
       "    </tr>\n",
       "  </tbody>\n",
       "</table>\n",
       "</div>"
      ],
      "text/plain": [
       "               AGE    SEX  CHANCE  PATTERN  BLDLOSS  STOMACHE  WGHTLOSS  \\\n",
       "count   566.000000  566.0   566.0    566.0    566.0     566.0     566.0   \n",
       "unique         NaN    2.0     2.0      2.0      2.0       2.0       2.0   \n",
       "top            NaN    0.0     0.0      1.0      0.0       0.0       0.0   \n",
       "freq           NaN  287.0   520.0    319.0    303.0     327.0     388.0   \n",
       "mean     65.780919    NaN     NaN      NaN      NaN       NaN       NaN   \n",
       "std      11.707258    NaN     NaN      NaN      NaN       NaN       NaN   \n",
       "min      20.000000    NaN     NaN      NaN      NaN       NaN       NaN   \n",
       "25%      60.000000    NaN     NaN      NaN      NaN       NaN       NaN   \n",
       "50%      67.000000    NaN     NaN      NaN      NaN       NaN       NaN   \n",
       "75%      74.000000    NaN     NaN      NaN      NaN       NaN       NaN   \n",
       "max      93.000000    NaN     NaN      NaN      NaN       NaN       NaN   \n",
       "\n",
       "        ILEUS  STATUS  STAGE    LOC        SURV      OPYEAR       AGEGR  \n",
       "count   566.0   566.0  566.0  566.0  566.000000  566.000000  566.000000  \n",
       "unique    2.0     2.0    4.0    4.0         NaN         NaN         NaN  \n",
       "top       0.0     1.0    2.0    3.0         NaN         NaN         NaN  \n",
       "freq    515.0   408.0  211.0  244.0         NaN         NaN         NaN  \n",
       "mean      NaN     NaN    NaN    NaN    4.770231   68.671378    2.095406  \n",
       "std       NaN     NaN    NaN    NaN    4.818686    6.109745    0.799168  \n",
       "min       NaN     NaN    NaN    NaN    0.003000   58.000000    1.000000  \n",
       "25%       NaN     NaN    NaN    NaN    0.734500   63.000000    1.000000  \n",
       "50%       NaN     NaN    NaN    NaN    3.107000   69.000000    2.000000  \n",
       "75%       NaN     NaN    NaN    NaN    7.754750   74.000000    3.000000  \n",
       "max       NaN     NaN    NaN    NaN   22.494000   78.000000    3.000000  "
      ]
     },
     "execution_count": 36,
     "metadata": {},
     "output_type": "execute_result"
    }
   ],
   "source": [
    "# checking summary statistics\n",
    "colcan_data.describe(include=\"all\")"
   ]
  },
  {
   "cell_type": "code",
   "execution_count": 37,
   "id": "13c21b17",
   "metadata": {},
   "outputs": [
    {
     "data": {
      "text/html": [
       "<div>\n",
       "<style scoped>\n",
       "    .dataframe tbody tr th:only-of-type {\n",
       "        vertical-align: middle;\n",
       "    }\n",
       "\n",
       "    .dataframe tbody tr th {\n",
       "        vertical-align: top;\n",
       "    }\n",
       "\n",
       "    .dataframe thead th {\n",
       "        text-align: right;\n",
       "    }\n",
       "</style>\n",
       "<table border=\"1\" class=\"dataframe\">\n",
       "  <thead>\n",
       "    <tr style=\"text-align: right;\">\n",
       "      <th></th>\n",
       "      <th>AGE</th>\n",
       "      <th>SURV</th>\n",
       "      <th>OPYEAR</th>\n",
       "      <th>AGEGR</th>\n",
       "    </tr>\n",
       "  </thead>\n",
       "  <tbody>\n",
       "    <tr>\n",
       "      <th>count</th>\n",
       "      <td>566.000000</td>\n",
       "      <td>566.000000</td>\n",
       "      <td>566.000000</td>\n",
       "      <td>566.000000</td>\n",
       "    </tr>\n",
       "    <tr>\n",
       "      <th>mean</th>\n",
       "      <td>65.780919</td>\n",
       "      <td>4.770231</td>\n",
       "      <td>68.671378</td>\n",
       "      <td>2.095406</td>\n",
       "    </tr>\n",
       "    <tr>\n",
       "      <th>std</th>\n",
       "      <td>11.707258</td>\n",
       "      <td>4.818686</td>\n",
       "      <td>6.109745</td>\n",
       "      <td>0.799168</td>\n",
       "    </tr>\n",
       "    <tr>\n",
       "      <th>min</th>\n",
       "      <td>20.000000</td>\n",
       "      <td>0.003000</td>\n",
       "      <td>58.000000</td>\n",
       "      <td>1.000000</td>\n",
       "    </tr>\n",
       "    <tr>\n",
       "      <th>25%</th>\n",
       "      <td>60.000000</td>\n",
       "      <td>0.734500</td>\n",
       "      <td>63.000000</td>\n",
       "      <td>1.000000</td>\n",
       "    </tr>\n",
       "    <tr>\n",
       "      <th>50%</th>\n",
       "      <td>67.000000</td>\n",
       "      <td>3.107000</td>\n",
       "      <td>69.000000</td>\n",
       "      <td>2.000000</td>\n",
       "    </tr>\n",
       "    <tr>\n",
       "      <th>75%</th>\n",
       "      <td>74.000000</td>\n",
       "      <td>7.754750</td>\n",
       "      <td>74.000000</td>\n",
       "      <td>3.000000</td>\n",
       "    </tr>\n",
       "    <tr>\n",
       "      <th>max</th>\n",
       "      <td>93.000000</td>\n",
       "      <td>22.494000</td>\n",
       "      <td>78.000000</td>\n",
       "      <td>3.000000</td>\n",
       "    </tr>\n",
       "  </tbody>\n",
       "</table>\n",
       "</div>"
      ],
      "text/plain": [
       "              AGE        SURV      OPYEAR       AGEGR\n",
       "count  566.000000  566.000000  566.000000  566.000000\n",
       "mean    65.780919    4.770231   68.671378    2.095406\n",
       "std     11.707258    4.818686    6.109745    0.799168\n",
       "min     20.000000    0.003000   58.000000    1.000000\n",
       "25%     60.000000    0.734500   63.000000    1.000000\n",
       "50%     67.000000    3.107000   69.000000    2.000000\n",
       "75%     74.000000    7.754750   74.000000    3.000000\n",
       "max     93.000000   22.494000   78.000000    3.000000"
      ]
     },
     "execution_count": 37,
     "metadata": {},
     "output_type": "execute_result"
    }
   ],
   "source": [
    "# checking the summary statistics for the numeric variables\n",
    "colcan_data.describe()"
   ]
  },
  {
   "cell_type": "markdown",
   "id": "42e18001",
   "metadata": {},
   "source": [
    "Value count for categorical variables"
   ]
  },
  {
   "cell_type": "code",
   "execution_count": 38,
   "id": "2faef70b",
   "metadata": {},
   "outputs": [
    {
     "name": "stdout",
     "output_type": "stream",
     "text": [
      "\n",
      " categorical variable distribution\n",
      "\n",
      "SEX: \n",
      " SEX\n",
      "0    287\n",
      "1    279\n",
      "Name: count, dtype: int64\n",
      "\n",
      "CHANCE: \n",
      " CHANCE\n",
      "0    520\n",
      "1     46\n",
      "Name: count, dtype: int64\n",
      "\n",
      "PATTERN: \n",
      " PATTERN\n",
      "1    319\n",
      "0    247\n",
      "Name: count, dtype: int64\n",
      "\n",
      "BLDLOSS: \n",
      " BLDLOSS\n",
      "0    303\n",
      "1    263\n",
      "Name: count, dtype: int64\n",
      "\n",
      "STOMACHE: \n",
      " STOMACHE\n",
      "0    327\n",
      "1    239\n",
      "Name: count, dtype: int64\n",
      "\n",
      "WGHTLOSS: \n",
      " WGHTLOSS\n",
      "0    388\n",
      "1    178\n",
      "Name: count, dtype: int64\n",
      "\n",
      "ILEUS: \n",
      " ILEUS\n",
      "0    515\n",
      "1     51\n",
      "Name: count, dtype: int64\n",
      "\n",
      "STATUS: \n",
      " STATUS\n",
      "1    408\n",
      "0    158\n",
      "Name: count, dtype: int64\n",
      "\n",
      "STAGE: \n",
      " STAGE\n",
      "2    211\n",
      "1    135\n",
      "4    131\n",
      "3     89\n",
      "Name: count, dtype: int64\n",
      "\n",
      "LOC: \n",
      " LOC\n",
      "3    244\n",
      "4    138\n",
      "1    135\n",
      "2     49\n",
      "Name: count, dtype: int64\n"
     ]
    }
   ],
   "source": [
    "#  checking value counts for categorical variables\n",
    "print(\"\\n categorical variable distribution\")\n",
    "for col in cateorical_vars:\n",
    "    print(f\"\\n{col}: \\n {colcan_data[col].value_counts()}\")"
   ]
  },
  {
   "cell_type": "markdown",
   "id": "4a06ed81",
   "metadata": {},
   "source": [
    "Relabeling the categories"
   ]
  },
  {
   "cell_type": "code",
   "execution_count": 39,
   "id": "1ec1f65f",
   "metadata": {},
   "outputs": [],
   "source": [
    "# relabeling the categories\n",
    "colcan_data[\"SEX\"]= colcan_data[\"SEX\"].cat.rename_categories({ 0: \"Male\", 1: \"Female\"})\n",
    "colcan_data[\"CHANCE\"]= colcan_data[\"CHANCE\"].cat.rename_categories({ 0: \"No\", 1: \"Yes\"})\n",
    "colcan_data[\"STATUS\"]= colcan_data[\"STATUS\"].cat.rename_categories({ 0: \"Censored\", 1: \"Dead\"})\n",
    "colcan_data[\"STAGE\"]= colcan_data[\"STAGE\"].cat.rename_categories({1: \"A\", 2: \"B\", 3: \"C\", 4: \"D\"})\n",
    "colcan_data[\"LOC\"]= colcan_data[\"LOC\"].cat.rename_categories({1: \"Coecum\", 2: \"Colon transcendent\", 3: \"colon descendent\",4:\"Rectum\"})"
   ]
  },
  {
   "cell_type": "markdown",
   "id": "468846ac",
   "metadata": {},
   "source": [
    "Checking for changes"
   ]
  },
  {
   "cell_type": "code",
   "execution_count": 40,
   "id": "68deb09a",
   "metadata": {},
   "outputs": [
    {
     "name": "stdout",
     "output_type": "stream",
     "text": [
      "\n",
      " categorical variable distribution\n",
      "\n",
      "SEX: \n",
      " SEX\n",
      "Male      287\n",
      "Female    279\n",
      "Name: count, dtype: int64\n",
      "\n",
      "CHANCE: \n",
      " CHANCE\n",
      "No     520\n",
      "Yes     46\n",
      "Name: count, dtype: int64\n",
      "\n",
      "PATTERN: \n",
      " PATTERN\n",
      "1    319\n",
      "0    247\n",
      "Name: count, dtype: int64\n",
      "\n",
      "BLDLOSS: \n",
      " BLDLOSS\n",
      "0    303\n",
      "1    263\n",
      "Name: count, dtype: int64\n",
      "\n",
      "STOMACHE: \n",
      " STOMACHE\n",
      "0    327\n",
      "1    239\n",
      "Name: count, dtype: int64\n",
      "\n",
      "WGHTLOSS: \n",
      " WGHTLOSS\n",
      "0    388\n",
      "1    178\n",
      "Name: count, dtype: int64\n",
      "\n",
      "ILEUS: \n",
      " ILEUS\n",
      "0    515\n",
      "1     51\n",
      "Name: count, dtype: int64\n",
      "\n",
      "STATUS: \n",
      " STATUS\n",
      "Dead        408\n",
      "Censored    158\n",
      "Name: count, dtype: int64\n",
      "\n",
      "STAGE: \n",
      " STAGE\n",
      "B    211\n",
      "A    135\n",
      "D    131\n",
      "C     89\n",
      "Name: count, dtype: int64\n",
      "\n",
      "LOC: \n",
      " LOC\n",
      "colon descendent      244\n",
      "Rectum                138\n",
      "Coecum                135\n",
      "Colon transcendent     49\n",
      "Name: count, dtype: int64\n"
     ]
    }
   ],
   "source": [
    "#  checking value counts for categorical variables\n",
    "print(\"\\n categorical variable distribution\")\n",
    "for col in cateorical_vars:\n",
    "    print(f\"\\n{col}: \\n {colcan_data[col].value_counts()}\")"
   ]
  },
  {
   "cell_type": "markdown",
   "id": "bab4f069",
   "metadata": {},
   "source": [
    "Visualization for common variables"
   ]
  },
  {
   "cell_type": "code",
   "execution_count": 41,
   "id": "eefbce88",
   "metadata": {},
   "outputs": [],
   "source": [
    "# Setting style for better visuals\n",
    "sns.set(style=\"whitegrid\")"
   ]
  },
  {
   "cell_type": "markdown",
   "id": "47b8d547",
   "metadata": {},
   "source": [
    "plotting histogram for Age & Survival"
   ]
  },
  {
   "cell_type": "code",
   "execution_count": 42,
   "id": "5d19ba9d",
   "metadata": {},
   "outputs": [
    {
     "data": {
      "image/png": "[encoded data removed]",
      "text/plain": [
       "<Figure size 1000x500 with 1 Axes>"
      ]
     },
     "metadata": {},
     "output_type": "display_data"
    }
   ],
   "source": [
    "# plotting histogram for Age & Survival\n",
    "plt.figure(figsize=(10,5))\n",
    "\n",
    "plt.subplot(1, 2, 1)\n",
    "sns.histplot(colcan_data[\"AGE\"], kde=True, color=\"green\")\n",
    "plt.title(\"Age Distribution of Patients\")\n",
    "plt.xlabel(\"Age\")\n",
    "plt.ylabel(\"Frequency\")\n",
    "plt.show()"
   ]
  },
  {
   "cell_type": "code",
   "execution_count": 43,
   "id": "e9511d0f",
   "metadata": {},
   "outputs": [
    {
     "data": {
      "image/png": "[encoded data removed]",
      "text/plain": [
       "<Figure size 1000x500 with 1 Axes>"
      ]
     },
     "metadata": {},
     "output_type": "display_data"
    }
   ],
   "source": [
    "# plotting histogram for Survival\n",
    "plt.figure(figsize=(10,5))\n",
    "plt.subplot(1,2,2)\n",
    "sns.histplot(colcan_data[\"SURV\"], kde=True, color=\"black\")\n",
    "plt.title(\"Survival Distribution of Patients\")\n",
    "plt.xlabel(\"Survival Time days\")\n",
    "plt.ylabel(\"Frequency\")\n",
    "plt.show()"
   ]
  },
  {
   "cell_type": "markdown",
   "id": "9bc77627",
   "metadata": {},
   "source": [
    "Bar plot"
   ]
  },
  {
   "cell_type": "code",
   "execution_count": 44,
   "id": "251195ba",
   "metadata": {},
   "outputs": [
    {
     "name": "stderr",
     "output_type": "stream",
     "text": [
      "C:\\Users\\PETER VITALIS\\AppData\\Local\\Temp\\ipykernel_4008\\3638881435.py:2: FutureWarning: \n",
      "\n",
      "Passing `palette` without assigning `hue` is deprecated and will be removed in v0.14.0. Assign the `x` variable to `hue` and set `legend=False` for the same effect.\n",
      "\n",
      "  sns.countplot(data=colcan_data, x=\"SEX\", palette=\"Set2\")\n"
     ]
    },
    {
     "data": {
      "image/png": "[encoded data removed]",
      "text/plain": [
       "<Figure size 500x400 with 1 Axes>"
      ]
     },
     "metadata": {},
     "output_type": "display_data"
    }
   ],
   "source": [
    "plt.figure(figsize=(5, 4))\n",
    "sns.countplot(data=colcan_data, x=\"SEX\", palette=\"Set2\")\n",
    "plt.title(\"Patient Gender Distribution\")\n",
    "plt.xlabel(\"Sex\")\n",
    "plt.ylabel(\"Number of Patients\")\n",
    "plt.show()\n"
   ]
  },
  {
   "cell_type": "code",
   "execution_count": 45,
   "id": "4efc06fe",
   "metadata": {},
   "outputs": [
    {
     "name": "stderr",
     "output_type": "stream",
     "text": [
      "C:\\Users\\PETER VITALIS\\AppData\\Local\\Temp\\ipykernel_4008\\2417181710.py:2: FutureWarning: \n",
      "\n",
      "Passing `palette` without assigning `hue` is deprecated and will be removed in v0.14.0. Assign the `x` variable to `hue` and set `legend=False` for the same effect.\n",
      "\n",
      "  sns.countplot(data=colcan_data, x=\"STAGE\", palette=\"pastel\")\n"
     ]
    },
    {
     "data": {
      "image/png": "[encoded data removed]",
      "text/plain": [
       "<Figure size 600x400 with 1 Axes>"
      ]
     },
     "metadata": {},
     "output_type": "display_data"
    }
   ],
   "source": [
    "plt.figure(figsize=(6, 4))\n",
    "sns.countplot(data=colcan_data, x=\"STAGE\", palette=\"pastel\")\n",
    "plt.title(\"Distribution of Dukes Stages\")\n",
    "plt.xlabel(\"Dukes Stage\")\n",
    "plt.ylabel(\"Number of Patients\")\n",
    "plt.show()\n"
   ]
  },
  {
   "cell_type": "code",
   "execution_count": 46,
   "id": "3785e7ab",
   "metadata": {},
   "outputs": [
    {
     "name": "stderr",
     "output_type": "stream",
     "text": [
      "C:\\Users\\PETER VITALIS\\AppData\\Local\\Temp\\ipykernel_4008\\1478757694.py:2: FutureWarning: \n",
      "\n",
      "Passing `palette` without assigning `hue` is deprecated and will be removed in v0.14.0. Assign the `x` variable to `hue` and set `legend=False` for the same effect.\n",
      "\n",
      "  sns.countplot(data=colcan_data, x=\"LOC\", palette=\"muted\")\n"
     ]
    },
    {
     "data": {
      "image/png": "[encoded data removed]",
      "text/plain": [
       "<Figure size 700x400 with 1 Axes>"
      ]
     },
     "metadata": {},
     "output_type": "display_data"
    }
   ],
   "source": [
    "plt.figure(figsize=(7, 4))\n",
    "sns.countplot(data=colcan_data, x=\"LOC\", palette=\"muted\")\n",
    "plt.title(\"Tumor Location Distribution\")\n",
    "plt.xlabel(\"Tumor Location\")\n",
    "plt.ylabel(\"Number of Patients\")\n",
    "plt.xticks(rotation=15)  # Adjust if long labels\n",
    "plt.show()\n"
   ]
  },
  {
   "cell_type": "markdown",
   "id": "e3d942f2",
   "metadata": {},
   "source": [
    "### Survival Analysis"
   ]
  },
  {
   "cell_type": "markdown",
   "id": "ff5a491f",
   "metadata": {},
   "source": [
    "##### Kaplan-Meier Survival Curve"
   ]
  },
  {
   "cell_type": "code",
   "execution_count": 47,
   "id": "417b29ee",
   "metadata": {},
   "outputs": [],
   "source": [
    "# importing lifelines model for survival analysis -Kaplan-Meier estimator\n",
    "from lifelines import KaplanMeierFitter"
   ]
  },
  {
   "cell_type": "code",
   "execution_count": 49,
   "id": "0bcec005",
   "metadata": {},
   "outputs": [
    {
     "data": {
      "image/png": "[encoded data removed]",
      "text/plain": [
       "<Figure size 1000x400 with 1 Axes>"
      ]
     },
     "metadata": {},
     "output_type": "display_data"
    }
   ],
   "source": [
    "# initializing the Kaplan-Meier fitter\n",
    "kmf = KaplanMeierFitter()\n",
    "\n",
    "#Definiing the event and duratuon\n",
    "T = colcan_data[\"SURV\"]  # this will be our duration variable\n",
    "E = colcan_data[\"STATUS\"].cat.codes  # this will be our event variable (0 for censored, 1 for event occurred)\n",
    "\n",
    "# Fitting the model\n",
    "kmf.fit(T, event_observed= E)\n",
    "\n",
    "# Plotting the Kaplan-Meier survival curve\n",
    "plt.figure(figsize=(10,4))\n",
    "kmf.plot(ci_show=True)\n",
    "plt.title(\"Kaplan-Meier Survival Curve for (all patients)\")\n",
    "plt.xlabel(\"Survival Time (days)\")\n",
    "plt.ylabel(\"Survival probability\")\n",
    "plt.grid(True)\n",
    "plt.show()\n"
   ]
  }
 ],
 "metadata": {
  "kernelspec": {
   "display_name": "Python 3",
   "language": "python",
   "name": "python3"
  },
  "language_info": {
   "codemirror_mode": {
    "name": "ipython",
    "version": 3
   },
   "file_extension": ".py",
   "mimetype": "text/x-python",
   "name": "python",
   "nbconvert_exporter": "python",
   "pygments_lexer": "ipython3",
   "version": "3.13.2"
  }
 },
 "nbformat": 4,
 "nbformat_minor": 5
}
